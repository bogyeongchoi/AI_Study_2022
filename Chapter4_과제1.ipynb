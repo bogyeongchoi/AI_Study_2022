{
  "cells": [
    {
      "cell_type": "markdown",
      "metadata": {
        "id": "view-in-github",
        "colab_type": "text"
      },
      "source": [
        "<a href=\"https://colab.research.google.com/github/music-ai-644/AI_Study_2022/blob/main/Chapter4_%EA%B3%BC%EC%A0%9C1.ipynb\" target=\"_parent\"><img src=\"https://colab.research.google.com/assets/colab-badge.svg\" alt=\"Open In Colab\"/></a>"
      ]
    },
    {
      "cell_type": "markdown",
      "source": [
        "# 로지스틱 회귀 연습문제"
      ],
      "metadata": {
        "id": "gtvXxVU7ngtN"
      }
    },
    {
      "cell_type": "markdown",
      "source": [
        "## 아이리스 데이터셋"
      ],
      "metadata": {
        "id": "Jm3czD6BoDAk"
      }
    },
    {
      "cell_type": "code",
      "source": [
        "import numpy as np \n",
        "import matplotlib.pyplot as plt \n",
        "from sklearn.datasets import load_wine\n",
        "from sklearn.model_selection import train_test_split "
      ],
      "metadata": {
        "id": "ZRiv5fNUBdof"
      },
      "execution_count": 30,
      "outputs": []
    },
    {
      "cell_type": "markdown",
      "source": [
        "1. 아이리스 데이터셋 준비"
      ],
      "metadata": {
        "id": "zZFcd_qq4TbB"
      }
    },
    {
      "cell_type": "code",
      "source": [
        "wine = load_wine()\n",
        "print(wine.feature_names)\n",
        "x = wine.data[:130, :]\n",
        "y = wine.target[:130]\n",
        "x_train, x_test, y_train, y_test = train_test_split(x, y, stratify=y, test_size=0.2, random_state=42)"
      ],
      "metadata": {
        "colab": {
          "base_uri": "https://localhost:8080/"
        },
        "id": "J30IAeiD2KBN",
        "outputId": "04f92bbb-f61b-4d25-f0e5-eb83dcdc4521"
      },
      "execution_count": 70,
      "outputs": [
        {
          "output_type": "stream",
          "name": "stdout",
          "text": [
            "['alcohol', 'malic_acid', 'ash', 'alcalinity_of_ash', 'magnesium', 'total_phenols', 'flavanoids', 'nonflavanoid_phenols', 'proanthocyanins', 'color_intensity', 'hue', 'od280/od315_of_diluted_wines', 'proline']\n"
          ]
        }
      ]
    },
    {
      "cell_type": "code",
      "source": [
        "# 실제 정답 \n",
        "for i in range(len(y_test)): \n",
        "  if y_test[i] == 1:\n",
        "    plt.scatter(x_test[i, 9], x_test[i, 12], c='r')\n",
        "  elif y_test[i] == 0:\n",
        "    plt.scatter(x_test[i, 9], x_test[i, 12], c='g')"
      ],
      "metadata": {
        "id": "w8s-mKdkA4Jj",
        "outputId": "3b09afeb-4750-44de-c0c3-a983f370063e",
        "colab": {
          "base_uri": "https://localhost:8080/",
          "height": 265
        }
      },
      "execution_count": 85,
      "outputs": [
        {
          "output_type": "display_data",
          "data": {
            "text/plain": [
              "<Figure size 432x288 with 1 Axes>"
            ],
            "image/png": "[encoded data removed]"
          },
          "metadata": {
            "needs_background": "light"
          }
        }
      ]
    },
    {
      "cell_type": "code",
      "source": [
        ""
      ],
      "metadata": {
        "id": "5hmx8kJaBkFU"
      },
      "execution_count": null,
      "outputs": []
    }
  ],
  "metadata": {
    "colab": {
      "name": "Chapter2_1.ipynb",
      "provenance": [],
      "include_colab_link": true
    },
    "language_info": {
      "name": "python"
    },
    "kernelspec": {
      "name": "python3",
      "display_name": "Python 3"
    }
  },
  "nbformat": 4,
  "nbformat_minor": 0
}