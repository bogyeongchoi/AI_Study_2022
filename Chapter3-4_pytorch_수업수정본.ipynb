{
  "cells": [
    {
      "cell_type": "markdown",
      "metadata": {
        "id": "view-in-github",
        "colab_type": "text"
      },
      "source": [
        "<a href=\"https://colab.research.google.com/github/music-ai-644/AI_Study_2022/blob/main/Chapter3-4_pytorch_%EC%88%98%EC%97%85%EC%88%98%EC%A0%95%EB%B3%B8.ipynb\" target=\"_parent\"><img src=\"https://colab.research.google.com/assets/colab-badge.svg\" alt=\"Open In Colab\"/></a>"
      ]
    },
    {
      "cell_type": "markdown",
      "source": [
        "# Chapter3-4 선형 회귀를 위한 뉴런 만들기 "
      ],
      "metadata": {
        "id": "gtvXxVU7ngtN"
      }
    },
    {
      "cell_type": "markdown",
      "source": [
        "## 문제 해결을 위한 당뇨병 환자 데이터 준비\n",
        "1. 데이터셋 불러오기 "
      ],
      "metadata": {
        "id": "Jm3czD6BoDAk"
      }
    },
    {
      "cell_type": "code",
      "source": [
        "from sklearn.datasets import load_diabetes"
      ],
      "metadata": {
        "id": "O5xOtZyGnjj0"
      },
      "execution_count": 1,
      "outputs": []
    },
    {
      "cell_type": "code",
      "source": [
        "diabetes = load_diabetes()"
      ],
      "metadata": {
        "id": "sgL51Otnn2-K"
      },
      "execution_count": 2,
      "outputs": []
    },
    {
      "cell_type": "code",
      "source": [
        "print(diabetes.data.shape, diabetes.target.shape)"
      ],
      "metadata": {
        "id": "pnLTHn7En_zv",
        "outputId": "537cd36d-56d5-460b-8777-28f4440b4521",
        "colab": {
          "base_uri": "https://localhost:8080/"
        }
      },
      "execution_count": 3,
      "outputs": [
        {
          "output_type": "stream",
          "name": "stdout",
          "text": [
            "(442, 10) (442,)\n"
          ]
        }
      ]
    },
    {
      "cell_type": "markdown",
      "source": [
        "2. 데이터셋 살펴보기"
      ],
      "metadata": {
        "id": "YTS9n730o85U"
      }
    },
    {
      "cell_type": "code",
      "source": [
        "diabetes.data[:3]  # numpy 슬라이싱은 문서 참조 "
      ],
      "metadata": {
        "id": "F4s8SXd8oNIw",
        "outputId": "1a0eda31-e406-4c0a-ba3c-f82ebf5b01d4",
        "colab": {
          "base_uri": "https://localhost:8080/"
        }
      },
      "execution_count": 4,
      "outputs": [
        {
          "output_type": "execute_result",
          "data": {
            "text/plain": [
              "array([[ 0.03807591,  0.05068012,  0.06169621,  0.02187235, -0.0442235 ,\n",
              "        -0.03482076, -0.04340085, -0.00259226,  0.01990842, -0.01764613],\n",
              "       [-0.00188202, -0.04464164, -0.05147406, -0.02632783, -0.00844872,\n",
              "        -0.01916334,  0.07441156, -0.03949338, -0.06832974, -0.09220405],\n",
              "       [ 0.08529891,  0.05068012,  0.04445121, -0.00567061, -0.04559945,\n",
              "        -0.03419447, -0.03235593, -0.00259226,  0.00286377, -0.02593034]])"
            ]
          },
          "metadata": {},
          "execution_count": 4
        }
      ]
    },
    {
      "cell_type": "code",
      "source": [
        "diabetes.feature_names  # 나이(age) 성별(sex) 체질량지수(bmi) 혈압(bp), "
      ],
      "metadata": {
        "id": "RT6Q-3-LpHsY",
        "outputId": "1ead05fa-7377-4b76-b302-8dd03ce05294",
        "colab": {
          "base_uri": "https://localhost:8080/"
        }
      },
      "execution_count": 5,
      "outputs": [
        {
          "output_type": "execute_result",
          "data": {
            "text/plain": [
              "['age', 'sex', 'bmi', 'bp', 's1', 's2', 's3', 's4', 's5', 's6']"
            ]
          },
          "metadata": {},
          "execution_count": 5
        }
      ]
    },
    {
      "cell_type": "code",
      "source": [
        "x = diabetes.data[:, 2]  # 전체 샘플을 선택 (: 은 all의 의미) 하고 3번째 열(bmi)를 가져옴 \n",
        "y = diabetes.target  # 혈당량 "
      ],
      "metadata": {
        "id": "Fm7M9ShmpeTm"
      },
      "execution_count": 6,
      "outputs": []
    },
    {
      "cell_type": "code",
      "source": [
        "import matplotlib.pyplot as plt \n",
        "plt.scatter (x, y) \n",
        "plt.xlabel('x')\n",
        "plt.ylabel('y')\n",
        "plt.show()"
      ],
      "metadata": {
        "id": "sd-l7p43qNEU",
        "outputId": "942a7026-1ad0-40a4-a081-1f2c01ecf84b",
        "colab": {
          "base_uri": "https://localhost:8080/",
          "height": 279
        }
      },
      "execution_count": 7,
      "outputs": [
        {
          "output_type": "display_data",
          "data": {
            "text/plain": [
              "<Figure size 432x288 with 1 Axes>"
            ],
            "image/png": "[encoded data removed]"
          },
          "metadata": {
            "needs_background": "light"
          }
        }
      ]
    },
    {
      "cell_type": "code",
      "source": [
        "# Step1 torch 라이브러리 가져오기 \n",
        "import torch \n",
        "import torch.nn as nn"
      ],
      "metadata": {
        "id": "vW0GggXiUJ7i"
      },
      "execution_count": 8,
      "outputs": []
    },
    {
      "cell_type": "code",
      "source": [
        "# Step2 model 정의 \n",
        "model = nn.Linear(1, 1)  # 입력 변수가 1차원, 출력 변수가 1차원 이라는 뜻"
      ],
      "metadata": {
        "id": "XgyrvzxoUJ-Y"
      },
      "execution_count": 9,
      "outputs": []
    },
    {
      "cell_type": "code",
      "source": [
        "print(model.weight)  # w\n",
        "print(model.bias)  # b"
      ],
      "metadata": {
        "colab": {
          "base_uri": "https://localhost:8080/"
        },
        "id": "7jfs4omBUKBb",
        "outputId": "a525ed31-eccc-425a-ac46-8eda7cc34e86"
      },
      "execution_count": 12,
      "outputs": [
        {
          "output_type": "stream",
          "name": "stdout",
          "text": [
            "Parameter containing:\n",
            "tensor([[-0.2048]], requires_grad=True)\n",
            "Parameter containing:\n",
            "tensor([-0.4603], requires_grad=True)\n"
          ]
        }
      ]
    },
    {
      "cell_type": "code",
      "source": [
        "a_value = torch.FloatTensor([1.])\n",
        "print(model(a_value))  # model.foward(a_value)\n",
        "print(model.weight * a_value + model.bias)"
      ],
      "metadata": {
        "colab": {
          "base_uri": "https://localhost:8080/"
        },
        "id": "cutSPe2BUKE1",
        "outputId": "4cb37cf5-93ae-4b2d-ab8e-839454048000"
      },
      "execution_count": 14,
      "outputs": [
        {
          "output_type": "stream",
          "name": "stdout",
          "text": [
            "tensor([-0.6651], grad_fn=<AddBackward0>)\n",
            "tensor([[-0.6651]], grad_fn=<AddBackward0>)\n"
          ]
        }
      ]
    },
    {
      "cell_type": "code",
      "source": [
        "#Step3 loss 정의\n",
        "loss = nn.L1Loss()"
      ],
      "metadata": {
        "id": "AAq4VWajUKHa"
      },
      "execution_count": 16,
      "outputs": []
    },
    {
      "cell_type": "code",
      "source": [
        "a = torch.FloatTensor([1.])\n",
        "b = torch.FloatTensor([2.])"
      ],
      "metadata": {
        "id": "zcL59KZuUKJ_"
      },
      "execution_count": 18,
      "outputs": []
    },
    {
      "cell_type": "code",
      "source": [
        "loss(b, a)"
      ],
      "metadata": {
        "colab": {
          "base_uri": "https://localhost:8080/"
        },
        "id": "qfLnT5X3UKQA",
        "outputId": "b26c54da-104e-4bfd-8fe8-ea5caa1a6b28"
      },
      "execution_count": 20,
      "outputs": [
        {
          "output_type": "execute_result",
          "data": {
            "text/plain": [
              "tensor(1.)"
            ]
          },
          "metadata": {},
          "execution_count": 20
        }
      ]
    },
    {
      "cell_type": "code",
      "source": [
        "#Step4 optimizer 설정 \n",
        "optim = torch.optim.Adam(model.parameters(), lr=1e-3)"
      ],
      "metadata": {
        "id": "nfG7PQR8UKSU"
      },
      "execution_count": 22,
      "outputs": []
    },
    {
      "cell_type": "code",
      "source": [
        "for x_i, y_i in zip(x, y):\n",
        "  x_i = torch.FloatTensor([x_i])\n",
        "  y_i = torch.FloatTensor([y_i])\n",
        "\n",
        "  # model의 미분값 초기화 \n",
        "  model.zero_grad() \n",
        "  optim.zero_grad() \n",
        "\n",
        "  # 예측 \n",
        "  y_hat = model(x_i) \n",
        "  \n",
        "  # 오차 계산\n",
        "  err = loss(y_hat, y_i)\n",
        "  \n",
        "  # 미분값 계산\n",
        "  err.backward()\n",
        "\n",
        "  # 미분값이 모델에 적용 (w, b 가 업데이트)\n",
        "  optim.step()"
      ],
      "metadata": {
        "id": "NAK-Sh-WUKVZ"
      },
      "execution_count": 23,
      "outputs": []
    },
    {
      "cell_type": "code",
      "source": [
        "plt.scatter(x, y)\n",
        "pt1 = (-0.1, -0.1 * model.weight.data.numpy()[0] + model.bias.data.numpy()[0])\n",
        "pt2 = (0.15, 0.15 * model.weight.data.numpy()[0] + model.bias.data.numpy()[0])\n",
        "plt.plot([pt1[0], pt2[0]], [pt1[1], pt2[1]], 'r')\n",
        "plt.xlabel('x')\n",
        "plt.ylabel('y')"
      ],
      "metadata": {
        "id": "9t7gyoXgayT1",
        "outputId": "5bb49865-3d62-489f-926c-84b61fae34ab",
        "colab": {
          "base_uri": "https://localhost:8080/",
          "height": 298
        }
      },
      "execution_count": 26,
      "outputs": [
        {
          "output_type": "execute_result",
          "data": {
            "text/plain": [
              "Text(0, 0.5, 'y')"
            ]
          },
          "metadata": {},
          "execution_count": 26
        },
        {
          "output_type": "display_data",
          "data": {
            "text/plain": [
              "<Figure size 432x288 with 1 Axes>"
            ],
            "image/png": "[encoded data removed]"
          },
          "metadata": {
            "needs_background": "light"
          }
        }
      ]
    },
    {
      "cell_type": "code",
      "source": [
        ""
      ],
      "metadata": {
        "id": "Smn5AcPLbECp"
      },
      "execution_count": null,
      "outputs": []
    }
  ],
  "metadata": {
    "colab": {
      "name": "Chapter2_1.ipynb",
      "provenance": [],
      "include_colab_link": true
    },
    "language_info": {
      "name": "python"
    },
    "kernelspec": {
      "name": "python3",
      "display_name": "Python 3"
    }
  },
  "nbformat": 4,
  "nbformat_minor": 0
}