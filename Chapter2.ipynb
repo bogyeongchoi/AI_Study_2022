{
  "cells": [
    {
      "cell_type": "markdown",
      "metadata": {
        "id": "view-in-github",
        "colab_type": "text"
      },
      "source": [
        "<a href=\"https://colab.research.google.com/github/music-ai-644/AI_Study_2022/blob/main/Chapter2.ipynb\" target=\"_parent\"><img src=\"https://colab.research.google.com/assets/colab-badge.svg\" alt=\"Open In Colab\"/></a>"
      ]
    },
    {
      "cell_type": "markdown",
      "source": [
        "### Chapter 2 Colab 사용하기 \n",
        "\n",
        "- 현재 회사에서는 google drive가 막혀 있기 때문에 파일을 만들거나 저장할 때 문제가 발생할 수 있음 \n",
        "-  https://github.com/music-ai-644/AI_Study_2022 github에 파일을 올리고 받아서 사용\n",
        "- 커맨드는 도구 -> 명령 팔레트 에서 검색을 통해 확인할 수 있음 \n",
        "- 주요 커맨드 \n",
        "    - 실행 : ctrl + Enter 혹은 shift + Enter \n",
        "    - 삭제 : ctrl + M D \n",
        "    - 모든 런타임 초기화 "
      ],
      "metadata": {
        "id": "ztIVclofHzGL"
      }
    },
    {
      "cell_type": "code",
      "source": [
        "print(\"Hello World\")  # 주석은 샵을 치고 글을 적으면 됨 "
      ],
      "metadata": {
        "id": "-na3Q_1GIOLw"
      },
      "execution_count": null,
      "outputs": []
    },
    {
      "cell_type": "markdown",
      "source": [
        "## 파이썬 리스트 \n",
        "    - 파이썬의 리스트는 다른 종류의 데이터 형태가 들어갈 수 있음\n",
        "    - '[ ]' 괄호를 이용하여 생성이 가능 \n",
        "- 1차원 배열 (=벡터)\n",
        "    - 간단하게 하나의 괄호로 이루어진 리스트(배열)을 의미 "
      ],
      "metadata": {
        "id": "Ks16IqwYK7Mw"
      }
    },
    {
      "cell_type": "code",
      "source": [
        "my_list1 = [1, 2, 3]  # 정수만 넣을 때 (Integer)"
      ],
      "metadata": {
        "id": "O3IGya4UK5bH"
      },
      "execution_count": null,
      "outputs": []
    },
    {
      "cell_type": "code",
      "source": [
        "my_list2 = [\"a\", \"b\", \"c\"]  # 글자를 넣을 때 (String)"
      ],
      "metadata": {
        "id": "Gqo7ASrpLGlo"
      },
      "execution_count": null,
      "outputs": []
    },
    {
      "cell_type": "code",
      "source": [
        "my_list3 = [1, 2, \"a\"]  # 여러 개를 같이 넣을 때 "
      ],
      "metadata": {
        "id": "qEBc0GV-LJ-j"
      },
      "execution_count": null,
      "outputs": []
    },
    {
      "cell_type": "code",
      "source": [
        "print(my_list1)\n",
        "print(my_list2)\n",
        "print(my_list3)"
      ],
      "metadata": {
        "id": "TvjBxg3GMbSG"
      },
      "execution_count": null,
      "outputs": []
    },
    {
      "cell_type": "markdown",
      "source": [
        "- 2차원 배열(=행렬)\n",
        "    - 간단하게 두 개의 괄호로 이루어진 리스트(배열)을 의미 "
      ],
      "metadata": {
        "id": "IUKv3x3lWB6p"
      }
    },
    {
      "cell_type": "code",
      "source": [
        "my_list2d = [['a', 'b','c'], [1, 2, 3]]\n",
        "print(my_list2d)"
      ],
      "metadata": {
        "id": "l8tVsv0QMgtv"
      },
      "execution_count": null,
      "outputs": []
    },
    {
      "cell_type": "code",
      "source": [
        "print(my_list2d[0][1])"
      ],
      "metadata": {
        "id": "chXjolfhXWVY"
      },
      "execution_count": null,
      "outputs": []
    },
    {
      "cell_type": "markdown",
      "source": [
        "- 리스트 기초 연산\n",
        "    - pop : 제일 마지막에 있는 값을 제외  \n",
        "    - sorted : 정렬\n",
        "    - append : 값을 리스트에 추가\n",
        "    - extend : 리스트와 리스트를 결합\n",
        "    "
      ],
      "metadata": {
        "id": "x_ZFMxRPX1HZ"
      }
    },
    {
      "cell_type": "code",
      "source": [
        "a_list = [1, 2, 3, 4]\n",
        "b_list = [2, 3, 4, 5]\n",
        "\n",
        "print(\"---- 초기값 ----\")\n",
        "print(a_list)\n",
        "print(b_list)\n",
        "\n",
        "a_list.pop()\n",
        "b_list.pop()\n",
        "\n",
        "print(\"---- 나중값 ----\")\n",
        "print(a_list)\n",
        "print(b_list)"
      ],
      "metadata": {
        "id": "mtwh1ZDPX31Z"
      },
      "execution_count": null,
      "outputs": []
    },
    {
      "cell_type": "code",
      "source": [
        "c_list = [1, 4, 2, 8, 7, 4, 2]\n",
        "\n",
        "print(\"---- 초기값 ----\")\n",
        "print(c_list)\n",
        "\n",
        "sorted_c_list = sorted(c_list)\n",
        "print(\"---- 나중값 ----\")\n",
        "print(sorted_c_list)"
      ],
      "metadata": {
        "id": "llIzqi5EYSUv"
      },
      "execution_count": null,
      "outputs": []
    },
    {
      "cell_type": "code",
      "source": [
        "d_list = [\"A\", 1, \"d\", 5]\n",
        "e_list = [7, 8, 9, 10]\n",
        "\n",
        "sum_list1 = d_list + e_list\n",
        "sum_list2 = d_list.append(e_list)\n",
        "\n",
        "print(\"sum_list1 : \", sum_list1)\n",
        "print(\"sum_list2 : \", sum_list2)\n",
        "print(\"d_list    : \", d_list)"
      ],
      "metadata": {
        "id": "BmV1lK8nYhTx"
      },
      "execution_count": null,
      "outputs": []
    },
    {
      "cell_type": "code",
      "source": [
        "d_list = [\"A\", 1, \"d\", 5]\n",
        "\n",
        "print(\"---- 초기값 ----\")\n",
        "print(d_list)\n",
        "print(\"---- 나중값 ----\")\n",
        "d_list.append(3)\n",
        "print(d_list)"
      ],
      "metadata": {
        "id": "kTxb4aESYb05"
      },
      "execution_count": null,
      "outputs": []
    },
    {
      "cell_type": "code",
      "source": [
        "d_list = [\"A\", 1, \"d\", 5]\n",
        "e_list = [7, 8, 9, 10]\n",
        "\n",
        "sum_list3 = d_list.extend(e_list)\n",
        "print(\"sum_list3 : \", sum_list3)\n",
        "print(\"d_list    : \", d_list)"
      ],
      "metadata": {
        "id": "AO9_Kh5haB2W"
      },
      "execution_count": null,
      "outputs": []
    },
    {
      "cell_type": "markdown",
      "source": [
        "## 넘파이 (Numpy)\n",
        "\n",
        "- 배열을 다루는 라이브러리 \n",
        "- 이미 코랩에는 깔려 있기 때문에 import 를 이용하여 라이브러리를 불러오면 됨\n"
      ],
      "metadata": {
        "id": "EwK8HDL0a0NS"
      }
    },
    {
      "cell_type": "code",
      "source": [
        "import numpy as np \n",
        "print(\"numpy version : \", np.__version__)\n",
        "\n",
        "a_list = [1,2, 3, 4]\n",
        "a_list_np = np.array(a_list)\n",
        "\n",
        "print(\"a_list type    : \", type(a_list))\n",
        "print(\"a_list_np type : \", type(a_list_np))\n",
        "print(\"a_list    : \", a_list)\n",
        "print(\"a_list_np : \", a_list_np)\n"
      ],
      "metadata": {
        "id": "c5Uasim3bEde"
      },
      "execution_count": null,
      "outputs": []
    },
    {
      "cell_type": "code",
      "source": [
        "b_array = np.array([1,2,3,4,5])  # 1차원 배열\n",
        "c_array = np.array([[1,2,3],[4,5,6]])  # 2차원 배열 \n",
        "print(\"b_array : \", b_array)\n",
        "print(\"c_array : \\n\", c_array)"
      ],
      "metadata": {
        "id": "wj_Z_6ZibgXz"
      },
      "execution_count": null,
      "outputs": []
    },
    {
      "cell_type": "markdown",
      "source": [
        "- 넘파이 내장 함수 \n",
        "    - np.sum() : 배열의 모든 수를 더하는 함수 \n",
        "    - np.mean() : 배열의 평균을 구하는 함수 \n",
        "    - np.std() : 배열이 표준 편차를 구하는 함수 "
      ],
      "metadata": {
        "id": "GCBTeckUcWYY"
      }
    },
    {
      "cell_type": "code",
      "source": [
        "d_array = np.array([1,2, 3,4, 5])\n",
        "d_array_sum = np.sum(d_array)\n",
        "d_array_mean = np.mean(d_array)\n",
        "d_array_std = np.std(d_array)\n",
        "\n",
        "print(\"d_array : \", d_array)\n",
        "print(\"sum     : \", d_array_sum)\n",
        "print(\"mean    : \", d_array_mean)\n",
        "print(\"std     : \", d_array_std)"
      ],
      "metadata": {
        "id": "DBm-Uh_kb9o6"
      },
      "execution_count": null,
      "outputs": []
    },
    {
      "cell_type": "markdown",
      "source": [
        "## Matplotlib \n",
        "- 그래프를 그리거나 그림을 그릴 때 사용하는 라이브러리 \n",
        "- plt.plot() : 2차원 그래프를 그리는 함수 \n",
        "- https://matplotlib.org/stable/gallery/index 페이지 참조 \n",
        "\n"
      ],
      "metadata": {
        "id": "UfKtpXtEdBd-"
      }
    },
    {
      "cell_type": "code",
      "source": [
        "import matplotlib.pyplot as plt\n",
        "\n",
        "x = [1, 2, 3, 4, 5]\n",
        "y = [2, 4, 6, 8, 10]\n",
        "\n",
        "print(\"1. 기본\")\n",
        "plt.figure(1)\n",
        "plt.plot(x, y)\n",
        "plt.show()\n",
        "plt.close() \n",
        "\n",
        "print(\"2. 색 바꾸기\")\n",
        "plt.figure(2)\n",
        "plt.plot(x, y, 'r')\n",
        "plt.show()\n",
        "plt.close()\n",
        "\n",
        "print(\"3. 선 모양 바꾸기\")\n",
        "plt.figure(3)\n",
        "plt.plot(x, y, 'r--')\n",
        "plt.show()\n",
        "plt.close()\n",
        "\n",
        "\n",
        "print(\"4. 격자 넣기\")\n",
        "plt.figure(4)\n",
        "plt.plot(x, y, 'r--')\n",
        "plt.grid()\n",
        "plt.show()\n",
        "plt.close()\n",
        "\n",
        "print(\"5. 라벨 넣기\")\n",
        "plt.figure(5)\n",
        "plt.title(\"Test\")\n",
        "plt.plot(x, y, 'r--', label=\"line 1\")\n",
        "plt.xlabel(\"x\")\n",
        "plt.ylabel(\"y\")\n",
        "plt.legend()\n",
        "plt.grid()\n",
        "plt.show()\n",
        "plt.close()"
      ],
      "metadata": {
        "id": "bYbMIbaaciqD"
      },
      "execution_count": null,
      "outputs": []
    },
    {
      "cell_type": "markdown",
      "source": [
        "- Numpy와 Matplotlib 사용 예시"
      ],
      "metadata": {
        "id": "U7aIVGe7fxlP"
      }
    },
    {
      "cell_type": "code",
      "source": [
        "x = np.linspace(0, 20, 11)  # 0부터 20까지 11개의 값을 등간격으로 선택 \n",
        "print(\"x : \", x)\n",
        "\n",
        "y = x ** 2  # 제곱 함수\n",
        "print(\"y : \", y)"
      ],
      "metadata": {
        "id": "gIcOyHjDd7No"
      },
      "execution_count": null,
      "outputs": []
    },
    {
      "cell_type": "code",
      "source": [
        "plt.plot(x, y) \n",
        "plt.title(\"y = x^2 function\")\n",
        "plt.grid()\n",
        "plt.show()"
      ],
      "metadata": {
        "id": "2uCtbfpzgCSp"
      },
      "execution_count": null,
      "outputs": []
    },
    {
      "cell_type": "code",
      "source": [
        "x = np.random.randn(100)  # 100개의 임의의 수를 생성 \n",
        "y = np.random.randn(100)\n",
        "\n",
        "plt.scatter(x, y) \n",
        "plt.grid()\n",
        "plt.show() "
      ],
      "metadata": {
        "id": "YkyqIBqThGn8"
      },
      "execution_count": null,
      "outputs": []
    },
    {
      "cell_type": "code",
      "source": [
        ""
      ],
      "metadata": {
        "id": "zcCkyxYPheQa"
      },
      "execution_count": null,
      "outputs": []
    }
  ]
