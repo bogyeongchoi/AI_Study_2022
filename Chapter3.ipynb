{
  "cells": [
    {
      "cell_type": "markdown",
      "metadata": {
        "id": "view-in-github",
        "colab_type": "text"
      },
      "source": [
        "<a href=\"https://colab.research.google.com/github/music-ai-644/AI_Study_2022/blob/main/Chapter3.ipynb\" target=\"_parent\"><img src=\"https://colab.research.google.com/assets/colab-badge.svg\" alt=\"Open In Colab\"/></a>"
      ]
    },
    {
      "cell_type": "markdown",
      "source": [
        "# Chapter3 선형 회귀 "
      ],
      "metadata": {
        "id": "gtvXxVU7ngtN"
      }
    },
    {
      "cell_type": "markdown",
      "source": [
        "## 문제 해결을 위한 당뇨병 환자 데이터 준비\n",
        "1. 데이터셋 불러오기 "
      ],
      "metadata": {
        "id": "Jm3czD6BoDAk"
      }
    },
    {
      "cell_type": "code",
      "source": [
        "from sklearn.datasets import load_diabetes"
      ],
      "metadata": {
        "id": "O5xOtZyGnjj0"
      },
      "execution_count": 54,
      "outputs": []
    },
    {
      "cell_type": "code",
      "source": [
        "diabetes = load_diabetes()"
      ],
      "metadata": {
        "id": "sgL51Otnn2-K"
      },
      "execution_count": 55,
      "outputs": []
    },
    {
      "cell_type": "code",
      "source": [
        "print(diabetes.data.shape, diabetes.target.shape)"
      ],
      "metadata": {
        "id": "pnLTHn7En_zv",
        "outputId": "43077273-e0f7-467c-844c-c20f6c3a416f",
        "colab": {
          "base_uri": "https://localhost:8080/"
        }
      },
      "execution_count": 56,
      "outputs": [
        {
          "output_type": "stream",
          "name": "stdout",
          "text": [
            "(442, 10) (442,)\n"
          ]
        }
      ]
    },
    {
      "cell_type": "markdown",
      "source": [
        "2. 데이터셋 살펴보기"
      ],
      "metadata": {
        "id": "YTS9n730o85U"
      }
    },
    {
      "cell_type": "code",
      "source": [
        "diabetes.data[:3]  # numpy 슬라이싱은 문서 참조 "
      ],
      "metadata": {
        "id": "F4s8SXd8oNIw",
        "outputId": "f3ad4f02-fdb4-47cd-b181-bc3eb8a4f6cf",
        "colab": {
          "base_uri": "https://localhost:8080/"
        }
      },
      "execution_count": 57,
      "outputs": [
        {
          "output_type": "execute_result",
          "data": {
            "text/plain": [
              "array([[ 0.03807591,  0.05068012,  0.06169621,  0.02187235, -0.0442235 ,\n",
              "        -0.03482076, -0.04340085, -0.00259226,  0.01990842, -0.01764613],\n",
              "       [-0.00188202, -0.04464164, -0.05147406, -0.02632783, -0.00844872,\n",
              "        -0.01916334,  0.07441156, -0.03949338, -0.06832974, -0.09220405],\n",
              "       [ 0.08529891,  0.05068012,  0.04445121, -0.00567061, -0.04559945,\n",
              "        -0.03419447, -0.03235593, -0.00259226,  0.00286377, -0.02593034]])"
            ]
          },
          "metadata": {},
          "execution_count": 57
        }
      ]
    },
    {
      "cell_type": "code",
      "source": [
        "diabetes.feature_names  # 나이(age) 성별(sex) 체질량지수(bmi) 혈압(bp), "
      ],
      "metadata": {
        "id": "RT6Q-3-LpHsY",
        "outputId": "bd5360bf-0d6b-470d-84db-186c750febc1",
        "colab": {
          "base_uri": "https://localhost:8080/"
        }
      },
      "execution_count": 63,
      "outputs": [
        {
          "output_type": "execute_result",
          "data": {
            "text/plain": [
              "['age', 'sex', 'bmi', 'bp', 's1', 's2', 's3', 's4', 's5', 's6']"
            ]
          },
          "metadata": {},
          "execution_count": 63
        }
      ]
    },
    {
      "cell_type": "code",
      "source": [
        "x = diabetes.data[:, 2]  # 전체 샘플을 선택 (: 은 all의 의미) 하고 3번째 열(bmi)를 가져옴 \n",
        "y = diabetes.target  # 혈당량 "
      ],
      "metadata": {
        "id": "Fm7M9ShmpeTm"
      },
      "execution_count": 68,
      "outputs": []
    },
    {
      "cell_type": "code",
      "source": [
        "import matplotlib.pyplot as plt \n",
        "plt.scatter (x, y) \n",
        "plt.xlabel('x')\n",
        "plt.ylabel('y')\n",
        "plt.show()"
      ],
      "metadata": {
        "id": "sd-l7p43qNEU",
        "outputId": "5c6c2400-8e14-416b-bf88-35d289335b80",
        "colab": {
          "base_uri": "https://localhost:8080/",
          "height": 279
        }
      },
      "execution_count": 69,
      "outputs": [
        {
          "output_type": "display_data",
          "data": {
            "text/plain": [
              "<Figure size 432x288 with 1 Axes>"
            ],
            "image/png": "[encoded data removed]"
          },
          "metadata": {
            "needs_background": "light"
          }
        }
      ]
    },
    {
      "cell_type": "code",
      "source": [
        "first_sample = x[0]\n",
        "print(\"first sample : \", first_sample)"
      ],
      "metadata": {
        "id": "zqkIglwJqOLJ",
        "outputId": "30b54222-106d-44da-9a6d-d17e50622df1",
        "colab": {
          "base_uri": "https://localhost:8080/"
        }
      },
      "execution_count": 71,
      "outputs": [
        {
          "output_type": "stream",
          "name": "stdout",
          "text": [
            "first sample :  0.0616962065186885\n"
          ]
        }
      ]
    },
    {
      "cell_type": "markdown",
      "source": [
        "3. 데이터의 경향을 알 수 있는 선형 모델 만들기\n",
        "   1. y = w * x + b 의 함수라고 가정하자\n",
        "   2. 최초 w = 1, b = 1 로 설정하자. "
      ],
      "metadata": {
        "id": "pinv8AKqrJwk"
      }
    },
    {
      "cell_type": "code",
      "source": [
        "w = 1 \n",
        "b = 1\n",
        "f = x * w + b \n",
        "\n",
        "import matplotlib.pyplot as plt \n",
        "plt.scatter (x, y) \n",
        "plt.plot(x, f, 'r')\n",
        "\n",
        "plt.show()\n"
      ],
      "metadata": {
        "id": "MrZdbF5iq7BQ",
        "outputId": "bbb8bc5c-3711-46b3-c61f-891ae6fdc9d6",
        "colab": {
          "base_uri": "https://localhost:8080/",
          "height": 265
        }
      },
      "execution_count": 73,
      "outputs": [
        {
          "output_type": "display_data",
          "data": {
            "text/plain": [
              "<Figure size 432x288 with 1 Axes>"
            ],
            "image/png": "[encoded data removed]"
          },
          "metadata": {
            "needs_background": "light"
          }
        }
      ]
    },
    {
      "cell_type": "code",
      "source": [
        "print(\"예측값 : \", f[0])\n",
        "print(\"실제값 : \", y[0])"
      ],
      "metadata": {
        "id": "UbK0fBDIrsAx",
        "outputId": "2169ee83-d9cc-49d2-de4a-9602d47756c7",
        "colab": {
          "base_uri": "https://localhost:8080/"
        }
      },
      "execution_count": 76,
      "outputs": [
        {
          "output_type": "stream",
          "name": "stdout",
          "text": [
            "예측값 :  1.0616962065186886\n",
            "실제값 :  151.0\n"
          ]
        }
      ]
    },
    {
      "cell_type": "code",
      "source": [
        ""
      ],
      "metadata": {
        "id": "LnXsHUmjsOB2"
      },
      "execution_count": null,
      "outputs": []
    }
  ],
  "metadata": {
    "colab": {
      "name": "Chapter2_1.ipynb",
      "provenance": [],
      "include_colab_link": true
    },
    "language_info": {
      "name": "python"
    },
    "kernelspec": {
      "name": "python3",
      "display_name": "Python 3"
    }
  },
  "nbformat": 4,
  "nbformat_minor": 0
}