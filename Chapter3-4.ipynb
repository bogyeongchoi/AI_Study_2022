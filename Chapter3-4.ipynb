{
  "cells": [
    {
      "cell_type": "markdown",
      "metadata": {
        "id": "view-in-github",
        "colab_type": "text"
      },
      "source": [
        "<a href=\"https://colab.research.google.com/github/music-ai-644/AI_Study_2022/blob/main/Chapter3-4.ipynb\" target=\"_parent\"><img src=\"https://colab.research.google.com/assets/colab-badge.svg\" alt=\"Open In Colab\"/></a>"
      ]
    },
    {
      "cell_type": "markdown",
      "source": [
        "# Chapter3-4 선형 회귀를 위한 뉴런 만들기 "
      ],
      "metadata": {
        "id": "gtvXxVU7ngtN"
      }
    },
    {
      "cell_type": "markdown",
      "source": [
        "## 문제 해결을 위한 당뇨병 환자 데이터 준비\n",
        "1. 데이터셋 불러오기 "
      ],
      "metadata": {
        "id": "Jm3czD6BoDAk"
      }
    },
    {
      "cell_type": "code",
      "source": [
        "from sklearn.datasets import load_diabetes"
      ],
      "metadata": {
        "id": "O5xOtZyGnjj0"
      },
      "execution_count": 2,
      "outputs": []
    },
    {
      "cell_type": "code",
      "source": [
        "diabetes = load_diabetes()"
      ],
      "metadata": {
        "id": "sgL51Otnn2-K"
      },
      "execution_count": 3,
      "outputs": []
    },
    {
      "cell_type": "code",
      "source": [
        "print(diabetes.data.shape, diabetes.target.shape)"
      ],
      "metadata": {
        "id": "pnLTHn7En_zv",
        "outputId": "9344f825-3912-4445-a660-9096ed42f9d1",
        "colab": {
          "base_uri": "https://localhost:8080/"
        }
      },
      "execution_count": 4,
      "outputs": [
        {
          "output_type": "stream",
          "name": "stdout",
          "text": [
            "(442, 10) (442,)\n"
          ]
        }
      ]
    },
    {
      "cell_type": "markdown",
      "source": [
        "2. 데이터셋 살펴보기"
      ],
      "metadata": {
        "id": "YTS9n730o85U"
      }
    },
    {
      "cell_type": "code",
      "source": [
        "diabetes.data[:3]  # numpy 슬라이싱은 문서 참조 "
      ],
      "metadata": {
        "id": "F4s8SXd8oNIw",
        "outputId": "692df84b-a89c-4d34-8838-59a6546415a2",
        "colab": {
          "base_uri": "https://localhost:8080/"
        }
      },
      "execution_count": 5,
      "outputs": [
        {
          "output_type": "execute_result",
          "data": {
            "text/plain": [
              "array([[ 0.03807591,  0.05068012,  0.06169621,  0.02187235, -0.0442235 ,\n",
              "        -0.03482076, -0.04340085, -0.00259226,  0.01990842, -0.01764613],\n",
              "       [-0.00188202, -0.04464164, -0.05147406, -0.02632783, -0.00844872,\n",
              "        -0.01916334,  0.07441156, -0.03949338, -0.06832974, -0.09220405],\n",
              "       [ 0.08529891,  0.05068012,  0.04445121, -0.00567061, -0.04559945,\n",
              "        -0.03419447, -0.03235593, -0.00259226,  0.00286377, -0.02593034]])"
            ]
          },
          "metadata": {},
          "execution_count": 5
        }
      ]
    },
    {
      "cell_type": "code",
      "source": [
        "diabetes.feature_names  # 나이(age) 성별(sex) 체질량지수(bmi) 혈압(bp), "
      ],
      "metadata": {
        "id": "RT6Q-3-LpHsY",
        "outputId": "f5a8e7fd-f216-49c2-a531-363382f760a1",
        "colab": {
          "base_uri": "https://localhost:8080/"
        }
      },
      "execution_count": 6,
      "outputs": [
        {
          "output_type": "execute_result",
          "data": {
            "text/plain": [
              "['age', 'sex', 'bmi', 'bp', 's1', 's2', 's3', 's4', 's5', 's6']"
            ]
          },
          "metadata": {},
          "execution_count": 6
        }
      ]
    },
    {
      "cell_type": "code",
      "source": [
        "x = diabetes.data[:, 2]  # 전체 샘플을 선택 (: 은 all의 의미) 하고 3번째 열(bmi)를 가져옴 \n",
        "y = diabetes.target  # 혈당량 "
      ],
      "metadata": {
        "id": "Fm7M9ShmpeTm"
      },
      "execution_count": 7,
      "outputs": []
    },
    {
      "cell_type": "code",
      "source": [
        "import matplotlib.pyplot as plt \n",
        "plt.scatter (x, y) \n",
        "plt.xlabel('x')\n",
        "plt.ylabel('y')\n",
        "plt.show()"
      ],
      "metadata": {
        "id": "sd-l7p43qNEU",
        "outputId": "3e712126-00b1-44c5-8401-20e1029e38da",
        "colab": {
          "base_uri": "https://localhost:8080/",
          "height": 279
        }
      },
      "execution_count": 8,
      "outputs": [
        {
          "output_type": "display_data",
          "data": {
            "text/plain": [
              "<Figure size 432x288 with 1 Axes>"
            ],
            "image/png": "[encoded data removed]"
          },
          "metadata": {
            "needs_background": "light"
          }
        }
      ]
    },
    {
      "cell_type": "code",
      "source": [
        "class Neuron:\n",
        "  def __init__(self):\n",
        "    self.w = 1.0\n",
        "    self.b = 1.0 \n",
        "  \n",
        "  def forpass(self, x):\n",
        "    y_hat = x * self.w + self.b\n",
        "    return y_hat \n",
        "\n",
        "  def backprop(self, x, err):\n",
        "    w_grad = x * err \n",
        "    b_grad = 1 * err\n",
        "    return w_grad, b_grad\n",
        "\n",
        "  def fit(self, x, y, epochs=100):\n",
        "    for i in range(epochs):\n",
        "      for x_i, y_i in zip(x, y):\n",
        "        y_hat = self.forpass(x_i)\n",
        "        err = -(y_i - y_hat)\n",
        "        w_grad, b_grad = self.backprop(x_i, err)\n",
        "        self.w -= w_grad \n",
        "        self.b -= b_grad "
      ],
      "metadata": {
        "id": "pS9gts5xb5VP"
      },
      "execution_count": 12,
      "outputs": []
    },
    {
      "cell_type": "code",
      "source": [
        "neuron = Neuron()\n",
        "neuron.fit(x, y) "
      ],
      "metadata": {
        "id": "FY_tP_RIcgvk"
      },
      "execution_count": 13,
      "outputs": []
    },
    {
      "cell_type": "code",
      "source": [
        "plt.scatter(x, y)\n",
        "pt1 = (-0.1, -0.1 * neuron.w + neuron.b)\n",
        "pt2 = (0.15, 0.15 * neuron.w + neuron.b)\n",
        "plt.plot([pt1[0], pt2[0]], [pt1[1], pt2[1]], 'r')\n",
        "plt.xlabel('x')\n",
        "plt.ylabel('y')"
      ],
      "metadata": {
        "id": "A7aOYsKmcoj3",
        "outputId": "e29847fd-4a76-492b-da27-b77448364cf7",
        "colab": {
          "base_uri": "https://localhost:8080/",
          "height": 297
        }
      },
      "execution_count": 16,
      "outputs": [
        {
          "output_type": "execute_result",
          "data": {
            "text/plain": [
              "Text(0, 0.5, 'y')"
            ]
          },
          "metadata": {},
          "execution_count": 16
        },
        {
          "output_type": "display_data",
          "data": {
            "text/plain": [
              "<Figure size 432x288 with 1 Axes>"
            ],
            "image/png": "[encoded data removed]"
          },
          "metadata": {
            "needs_background": "light"
          }
        }
      ]
    },
    {
      "cell_type": "code",
      "source": [
        ""
      ],
      "metadata": {
        "id": "SqXNS0PQdAaD"
      },
      "execution_count": null,
      "outputs": []
    }
  ],
  "metadata": {
    "colab": {
      "name": "Chapter2_1.ipynb",
      "provenance": [],
      "include_colab_link": true
    },
    "language_info": {
      "name": "python"
    },
    "kernelspec": {
      "name": "python3",
      "display_name": "Python 3"
    }
  },
  "nbformat": 4,
  "nbformat_minor": 0
}