{
  "cells": [
    {
      "cell_type": "markdown",
      "metadata": {
        "id": "view-in-github",
        "colab_type": "text"
      },
      "source": [
        "<a href=\"https://colab.research.google.com/github/music-ai-644/AI_Study_2022/blob/main/week2_make_calculator.ipynb\" target=\"_parent\"><img src=\"https://colab.research.google.com/assets/colab-badge.svg\" alt=\"Open In Colab\"/></a>"
      ]
    },
    {
      "cell_type": "markdown",
      "source": [
        "# week2 make calculator"
      ],
      "metadata": {
        "id": "gtvXxVU7ngtN"
      }
    },
    {
      "cell_type": "markdown",
      "source": [
        "### 클래스 기초"
      ],
      "metadata": {
        "id": "9R6jApyfFq9W"
      }
    },
    {
      "cell_type": "code",
      "source": [
        "class School:\n",
        "  pass\n",
        "\n",
        "# 객체, 인스턴스"
      ],
      "metadata": {
        "id": "4t-t5fucFoU4"
      },
      "execution_count": null,
      "outputs": []
    },
    {
      "cell_type": "code",
      "source": [
        "class School:\n",
        "  teacher = \"이경훈\"\n",
        "  # 변수, 필드 \n",
        "\n",
        "print(School.teacher)"
      ],
      "metadata": {
        "id": "-qsOam52F0e_",
        "outputId": "2d1b5562-3ca8-4db2-e471-2a01672119b3",
        "colab": {
          "base_uri": "https://localhost:8080/"
        }
      },
      "execution_count": null,
      "outputs": [
        {
          "output_type": "stream",
          "name": "stdout",
          "text": [
            "이경훈\n"
          ]
        }
      ]
    },
    {
      "cell_type": "code",
      "source": [
        "class School:\n",
        "  teacher = \"이경훈\"\n",
        "  students = [\"서진주\", \"나윤진\", \"이예지\"]\n",
        "\n",
        "  def choolsuk():  # method, 동작하는 함수\n",
        "    for s in students:\n",
        "      print(s) "
      ],
      "metadata": {
        "id": "fCS04NvrGBi8"
      },
      "execution_count": null,
      "outputs": []
    },
    {
      "cell_type": "code",
      "source": [
        "A = School()  # A라는 School의 객체 생성 "
      ],
      "metadata": {
        "id": "9Nks3aBsGQCc"
      },
      "execution_count": null,
      "outputs": []
    },
    {
      "cell_type": "code",
      "source": [
        "A.students"
      ],
      "metadata": {
        "id": "DzeOCcQmHItk",
        "outputId": "fcbc4190-2cd3-47a4-cf2b-b4b480863494",
        "colab": {
          "base_uri": "https://localhost:8080/"
        }
      },
      "execution_count": null,
      "outputs": [
        {
          "output_type": "execute_result",
          "data": {
            "text/plain": [
              "['서진주', '나윤진', '이예지']"
            ]
          },
          "metadata": {},
          "execution_count": 22
        }
      ]
    },
    {
      "cell_type": "code",
      "source": [
        "A.choolsuk()"
      ],
      "metadata": {
        "id": "GPYkWJUVHM3s",
        "outputId": "aaf92e44-93b8-4f05-a652-0b5664adceca",
        "colab": {
          "base_uri": "https://localhost:8080/",
          "height": 172
        }
      },
      "execution_count": null,
      "outputs": [
        {
          "output_type": "error",
          "ename": "TypeError",
          "evalue": "ignored",
          "traceback": [
            "\u001b[0;31m---------------------------------------------------------------------------\u001b[0m",
            "\u001b[0;31mTypeError\u001b[0m                                 Traceback (most recent call last)",
            "\u001b[0;32m<ipython-input-23-6a329fe70ab8>\u001b[0m in \u001b[0;36m<module>\u001b[0;34m()\u001b[0m\n\u001b[0;32m----> 1\u001b[0;31m \u001b[0mA\u001b[0m\u001b[0;34m.\u001b[0m\u001b[0mchoolsuk\u001b[0m\u001b[0;34m(\u001b[0m\u001b[0;34m)\u001b[0m\u001b[0;34m\u001b[0m\u001b[0;34m\u001b[0m\u001b[0m\n\u001b[0m",
            "\u001b[0;31mTypeError\u001b[0m: choolsuk() takes 0 positional arguments but 1 was given"
          ]
        }
      ]
    },
    {
      "cell_type": "code",
      "source": [
        "class School:\n",
        "  teacher = \"이경훈\"\n",
        "  students = [\"서진주\", \"나윤진\", \"이예지\"]\n",
        "\n",
        "  def choolsuk(self):  # method, 동작하는 함수\n",
        "    for s in self.students:  # 자기 자신의 값을 참조하고 싶다!\n",
        "      print(s) "
      ],
      "metadata": {
        "id": "FV0GawfgHQkF"
      },
      "execution_count": null,
      "outputs": []
    },
    {
      "cell_type": "code",
      "source": [
        "A = School()"
      ],
      "metadata": {
        "id": "QEF13pV8HxGS"
      },
      "execution_count": null,
      "outputs": []
    },
    {
      "cell_type": "code",
      "source": [
        "A.teacher"
      ],
      "metadata": {
        "id": "-XsJU7VBHyTx",
        "outputId": "8d886531-ced4-49f2-d424-3ca57a61c38e",
        "colab": {
          "base_uri": "https://localhost:8080/",
          "height": 35
        }
      },
      "execution_count": null,
      "outputs": [
        {
          "output_type": "execute_result",
          "data": {
            "text/plain": [
              "'이경훈'"
            ],
            "application/vnd.google.colaboratory.intrinsic+json": {
              "type": "string"
            }
          },
          "metadata": {},
          "execution_count": 29
        }
      ]
    },
    {
      "cell_type": "code",
      "source": [
        "A.choolsuk()"
      ],
      "metadata": {
        "id": "oZZOnz5jHzOf",
        "outputId": "7d359889-601c-45fa-e0b9-12288843de35",
        "colab": {
          "base_uri": "https://localhost:8080/"
        }
      },
      "execution_count": null,
      "outputs": [
        {
          "output_type": "stream",
          "name": "stdout",
          "text": [
            "서진주\n",
            "나윤진\n",
            "이예지\n"
          ]
        }
      ]
    },
    {
      "cell_type": "code",
      "source": [
        "class School:\n",
        "  teacher = \"이경훈\"\n",
        "  students = [\"서진주\", \"나윤진\", \"이예지\"]\n",
        "\n",
        "  def choolsuk(self):  # method, 동작하는 함수\n",
        "    for s in self.students:  # 자기 자신의 값을 참조하고 싶다!\n",
        "      print(s) \n",
        "  \n",
        "  def other_choolsuk(self, some_students):  # 외부에서 파라미터를 받아서 출력\n",
        "    for s in some_students:\n",
        "      print(s)"
      ],
      "metadata": {
        "id": "cIdKhTNzIHve"
      },
      "execution_count": null,
      "outputs": []
    },
    {
      "cell_type": "code",
      "source": [
        "A = School()  # 객체 만들고"
      ],
      "metadata": {
        "id": "5xC2waU9I9X0"
      },
      "execution_count": null,
      "outputs": []
    },
    {
      "cell_type": "code",
      "source": [
        "a_studnets = [\"이예지\", \"이양선\", \"이현무\"]"
      ],
      "metadata": {
        "id": "IYCWvHZMI_uc"
      },
      "execution_count": null,
      "outputs": []
    },
    {
      "cell_type": "code",
      "source": [
        "A.other_choolsuk([\"나윤진\", \"김태우\"])"
      ],
      "metadata": {
        "id": "gyOocxP8JLhf",
        "outputId": "43864032-87df-494b-a044-c00109932462",
        "colab": {
          "base_uri": "https://localhost:8080/"
        }
      },
      "execution_count": null,
      "outputs": [
        {
          "output_type": "stream",
          "name": "stdout",
          "text": [
            "나윤진\n",
            "김태우\n"
          ]
        }
      ]
    },
    {
      "cell_type": "markdown",
      "source": [
        "## 계산기 만들기 \n",
        "- class Calculator\n",
        "- 내부에 cnt 변수 만들고 calculator 를 쓸 때마다 1씩 증가시키기 \n",
        "- cnt의 초깃값은 0 \n",
        "- add, sub, mul, div 외부 함수 만들기 \n",
        "- cnt_add 내부 함수 만들기 : calculator 쓸 때마다 1씩 증가 \n",
        "- 외부 함수는 항상 값을 두 개씩 받아오기\n",
        "- div 함수는 분모에 해당하는 값이 0이면 에러가 나도록 할 것 "
      ],
      "metadata": {
        "id": "4jvH5tR9Kf0f"
      }
    },
    {
      "cell_type": "code",
      "source": [
        "class Calculator:\n",
        "  cnt = 0 \n",
        "\n",
        "  def add(self, a, b):\n",
        "    self._cnt_add()\n",
        "    return a + b\n",
        "\n",
        "  def sub(self, a, b):\n",
        "    self._cnt_add()\n",
        "    return a - b\n",
        "\n",
        "  def mul(self, a, b):\n",
        "    self._cnt_add()\n",
        "    return a * b \n",
        "\n",
        "  def div(self, a, b):\n",
        "    if b == 0:\n",
        "      # print(\"error\")\n",
        "      raise ValueError(\"Error : b == 0\")\n",
        "    else:\n",
        "      self._cnt_add()\n",
        "      return a / b \n",
        "\n",
        "  def _cnt_add(self):\n",
        "    self.cnt = self.cnt + 1\n",
        "    # self.cnt += 1 \n"
      ],
      "metadata": {
        "id": "QN8aTMY_KTVc"
      },
      "execution_count": null,
      "outputs": []
    },
    {
      "cell_type": "code",
      "source": [
        "a = 5 \n",
        "a -= 2  # a = a - 2\n",
        "print(a)"
      ],
      "metadata": {
        "id": "S0wM64-aOJlA",
        "outputId": "6c351516-87ff-4881-f565-533394057e95",
        "colab": {
          "base_uri": "https://localhost:8080/"
        }
      },
      "execution_count": null,
      "outputs": [
        {
          "output_type": "stream",
          "name": "stdout",
          "text": [
            "3\n"
          ]
        }
      ]
    },
    {
      "cell_type": "code",
      "source": [
        "A = Calculator()"
      ],
      "metadata": {
        "id": "cXFJu1_COL0a"
      },
      "execution_count": null,
      "outputs": []
    },
    {
      "cell_type": "code",
      "source": [
        "A.cnt "
      ],
      "metadata": {
        "id": "w7GbbuCMPE_z",
        "outputId": "b229d7e6-5ab7-4dde-9081-90a6a2a1b523",
        "colab": {
          "base_uri": "https://localhost:8080/"
        }
      },
      "execution_count": null,
      "outputs": [
        {
          "output_type": "execute_result",
          "data": {
            "text/plain": [
              "0"
            ]
          },
          "metadata": {},
          "execution_count": 47
        }
      ]
    },
    {
      "cell_type": "code",
      "source": [
        "output = A.add(1, 2)\n",
        "print(output)"
      ],
      "metadata": {
        "id": "Xs4IDf4vPGYo",
        "outputId": "d8c49c0b-8c2b-49ac-c6cd-eb38de9abece",
        "colab": {
          "base_uri": "https://localhost:8080/"
        }
      },
      "execution_count": null,
      "outputs": [
        {
          "output_type": "stream",
          "name": "stdout",
          "text": [
            "3\n"
          ]
        }
      ]
    },
    {
      "cell_type": "code",
      "source": [
        "output = A.sub(3, 5)\n",
        "print(output)"
      ],
      "metadata": {
        "id": "ixVT45V0PL8y",
        "outputId": "e3f27eb9-8646-484d-ae8c-0445d9e112e6",
        "colab": {
          "base_uri": "https://localhost:8080/"
        }
      },
      "execution_count": null,
      "outputs": [
        {
          "output_type": "stream",
          "name": "stdout",
          "text": [
            "-2\n"
          ]
        }
      ]
    },
    {
      "cell_type": "code",
      "source": [
        "output = A.div(4, 0)"
      ],
      "metadata": {
        "id": "mAZlt67MPPd2",
        "outputId": "d64b3c20-b7f1-4c0e-ff45-8f7011891a55",
        "colab": {
          "base_uri": "https://localhost:8080/",
          "height": 299
        }
      },
      "execution_count": null,
      "outputs": [
        {
          "output_type": "error",
          "ename": "ValueError",
          "evalue": "ignored",
          "traceback": [
            "\u001b[0;31m---------------------------------------------------------------------------\u001b[0m",
            "\u001b[0;31mValueError\u001b[0m                                Traceback (most recent call last)",
            "\u001b[0;32m<ipython-input-50-ba88533b68ef>\u001b[0m in \u001b[0;36m<module>\u001b[0;34m()\u001b[0m\n\u001b[0;32m----> 1\u001b[0;31m \u001b[0moutput\u001b[0m \u001b[0;34m=\u001b[0m \u001b[0mA\u001b[0m\u001b[0;34m.\u001b[0m\u001b[0mdiv\u001b[0m\u001b[0;34m(\u001b[0m\u001b[0;36m4\u001b[0m\u001b[0;34m,\u001b[0m \u001b[0;36m0\u001b[0m\u001b[0;34m)\u001b[0m\u001b[0;34m\u001b[0m\u001b[0;34m\u001b[0m\u001b[0m\n\u001b[0m",
            "\u001b[0;32m<ipython-input-45-ff921ce64457>\u001b[0m in \u001b[0;36mdiv\u001b[0;34m(self, a, b)\u001b[0m\n\u001b[1;32m     17\u001b[0m     \u001b[0;32mif\u001b[0m \u001b[0mb\u001b[0m \u001b[0;34m==\u001b[0m \u001b[0;36m0\u001b[0m\u001b[0;34m:\u001b[0m\u001b[0;34m\u001b[0m\u001b[0;34m\u001b[0m\u001b[0m\n\u001b[1;32m     18\u001b[0m       \u001b[0;31m# print(\"error\")\u001b[0m\u001b[0;34m\u001b[0m\u001b[0;34m\u001b[0m\u001b[0;34m\u001b[0m\u001b[0m\n\u001b[0;32m---> 19\u001b[0;31m       \u001b[0;32mraise\u001b[0m \u001b[0mValueError\u001b[0m\u001b[0;34m(\u001b[0m\u001b[0;34m\"Error : b == 0\"\u001b[0m\u001b[0;34m)\u001b[0m\u001b[0;34m\u001b[0m\u001b[0;34m\u001b[0m\u001b[0m\n\u001b[0m\u001b[1;32m     20\u001b[0m     \u001b[0;32melse\u001b[0m\u001b[0;34m:\u001b[0m\u001b[0;34m\u001b[0m\u001b[0;34m\u001b[0m\u001b[0m\n\u001b[1;32m     21\u001b[0m       \u001b[0mself\u001b[0m\u001b[0;34m.\u001b[0m\u001b[0m_cnt_add\u001b[0m\u001b[0;34m(\u001b[0m\u001b[0;34m)\u001b[0m\u001b[0;34m\u001b[0m\u001b[0;34m\u001b[0m\u001b[0m\n",
            "\u001b[0;31mValueError\u001b[0m: Error : b == 0"
          ]
        }
      ]
    },
    {
      "cell_type": "code",
      "source": [
        "A.cnt"
      ],
      "metadata": {
        "id": "XEK1-ueZPRlt",
        "outputId": "b07e955b-7b26-4ce5-df44-eb786f476280",
        "colab": {
          "base_uri": "https://localhost:8080/"
        }
      },
      "execution_count": null,
      "outputs": [
        {
          "output_type": "execute_result",
          "data": {
            "text/plain": [
              "2"
            ]
          },
          "metadata": {},
          "execution_count": 51
        }
      ]
    },
    {
      "cell_type": "code",
      "source": [
        "class Calculator:\n",
        "  def __init__(self):\n",
        "    self.cnt = 0 \n",
        "    self.user = \"나윤진\"\n",
        "\n",
        "  def add(self, a, b):\n",
        "    self._cnt_add()\n",
        "    return a + b\n",
        "\n",
        "  def sub(self, a, b):\n",
        "    self._cnt_add()\n",
        "    return a - b\n",
        "\n",
        "  def mul(self, a, b):\n",
        "    self._cnt_add()\n",
        "    return a * b \n",
        "\n",
        "  def div(self, a, b):\n",
        "    if b == 0:\n",
        "      # print(\"error\")\n",
        "      raise ValueError(\"Error : b == 0\")\n",
        "    else:\n",
        "      self._cnt_add()\n",
        "      return a / b \n",
        "\n",
        "  def _cnt_add(self):\n",
        "    self.cnt = self.cnt + 1\n",
        "    # self.cnt += 1 "
      ],
      "metadata": {
        "id": "R3jH_98LPW0k"
      },
      "execution_count": 56,
      "outputs": []
    },
    {
      "cell_type": "code",
      "source": [
        "A = Calculator()\n",
        "print(A.cnt)\n",
        "print(A.user)"
      ],
      "metadata": {
        "id": "b-z39MktQAmI",
        "outputId": "12767f0e-cb50-4632-ba3d-ca61473119d8",
        "colab": {
          "base_uri": "https://localhost:8080/"
        }
      },
      "execution_count": 57,
      "outputs": [
        {
          "output_type": "stream",
          "name": "stdout",
          "text": [
            "0\n",
            "나윤진\n"
          ]
        }
      ]
    },
    {
      "cell_type": "code",
      "source": [
        ""
      ],
      "metadata": {
        "id": "g_kRmGWgQDo-"
      },
      "execution_count": null,
      "outputs": []
    }
  ],
  "metadata": {
    "colab": {
      "name": "Chapter2_1.ipynb",
      "provenance": [],
      "include_colab_link": true
    },
    "language_info": {
      "name": "python"
    },
    "kernelspec": {
      "name": "python3",
      "display_name": "Python 3"
    }
  },
  "nbformat": 4,
  "nbformat_minor": 0
}