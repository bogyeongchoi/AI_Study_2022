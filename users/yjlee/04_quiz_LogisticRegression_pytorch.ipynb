{
  "cells": [
    {
      "cell_type": "markdown",
      "metadata": {
        "id": "view-in-github",
        "colab_type": "text"
      },
      "source": [
        "<a href=\"https://colab.research.google.com/github/music-ai-644/AI_Study_2022/blob/main/users/yjlee/04_quiz_LogisticRegression_pytorch.ipynb\" target=\"_parent\"><img src=\"https://colab.research.google.com/assets/colab-badge.svg\" alt=\"Open In Colab\"/></a>"
      ]
    },
    {
      "cell_type": "markdown",
      "source": [
        "# 로지스틱 회귀"
      ],
      "metadata": {
        "id": "gtvXxVU7ngtN"
      }
    },
    {
      "cell_type": "markdown",
      "source": [
        "## ** Accuracy : 0.9824561403508771 ** <br>\n",
        "## ** 맨 아래 거! **"
      ],
      "metadata": {
        "id": "mslqpZ6p2vO3"
      }
    },
    {
      "cell_type": "markdown",
      "source": [
        "## 문제 해결을 위한 데이터셋 준비\n",
        "\n",
        "1. 데이터셋 불러오기 \n"
      ],
      "metadata": {
        "id": "Jm3czD6BoDAk"
      }
    },
    {
      "cell_type": "code",
      "source": [
        "from sklearn.datasets import load_breast_cancer\n",
        "cancer = load_breast_cancer()\n",
        "print(cancer.data.shape, cancer.target.shape)"
      ],
      "metadata": {
        "colab": {
          "base_uri": "https://localhost:8080/"
        },
        "id": "ZRiv5fNUBdof",
        "outputId": "3489db58-3f6c-4365-973b-a6d49a50b9fb"
      },
      "execution_count": 3,
      "outputs": [
        {
          "output_type": "stream",
          "name": "stdout",
          "text": [
            "(569, 30) (569,)\n"
          ]
        }
      ]
    },
    {
      "cell_type": "markdown",
      "source": [
        "2. 데이터 확인하기 "
      ],
      "metadata": {
        "id": "-KpH8pBDB2U5"
      }
    },
    {
      "cell_type": "code",
      "source": [
        "import numpy as np \n",
        "print(np.unique(cancer.target, return_counts=True))"
      ],
      "metadata": {
        "colab": {
          "base_uri": "https://localhost:8080/"
        },
        "id": "BWFQ8FGcCaRy",
        "outputId": "972ba5a7-b8c8-402e-f6a3-92fa4c7b52a1"
      },
      "execution_count": 5,
      "outputs": [
        {
          "output_type": "stream",
          "name": "stdout",
          "text": [
            "(array([0, 1]), array([212, 357]))\n"
          ]
        }
      ]
    },
    {
      "cell_type": "code",
      "source": [
        "x = cancer.data\n",
        "y = cancer.target "
      ],
      "metadata": {
        "id": "5Xc9FUXHC2i_"
      },
      "execution_count": 6,
      "outputs": []
    },
    {
      "cell_type": "code",
      "source": [
        "import torch \n",
        "import torch.nn as nn \n",
        "from sklearn.model_selection import train_test_split \n",
        "x_train, x_test, y_train, y_test = train_test_split(x, y, stratify=y, test_size=0.2, random_state=42)\n",
        "x_train_torch = torch.FloatTensor(x_train)\n",
        "y_train_torch = torch.FloatTensor(y_train)\n",
        "x_test_torch = torch.FloatTensor(x_test)\n",
        "y_test_torch = torch.FloatTensor(y_test)"
      ],
      "metadata": {
        "id": "eCwTIDJXDGcv"
      },
      "execution_count": 51,
      "outputs": []
    },
    {
      "cell_type": "code",
      "source": [
        "print(x_train.shape, x_test.shape)"
      ],
      "metadata": {
        "colab": {
          "base_uri": "https://localhost:8080/"
        },
        "id": "2e09eAsrEwwh",
        "outputId": "1a338bef-949a-4831-aafc-07cedffd0193"
      },
      "execution_count": 52,
      "outputs": [
        {
          "output_type": "stream",
          "name": "stdout",
          "text": [
            "(455, 30) (114, 30)\n"
          ]
        }
      ]
    },
    {
      "cell_type": "code",
      "source": [
        "np.unique(y_train, return_counts=True)"
      ],
      "metadata": {
        "colab": {
          "base_uri": "https://localhost:8080/"
        },
        "id": "cXU6_Vo1E3Rl",
        "outputId": "15aee2fe-c6dd-4d2a-87c1-a9fd41815fe7"
      },
      "execution_count": 53,
      "outputs": [
        {
          "output_type": "execute_result",
          "data": {
            "text/plain": [
              "(array([0, 1]), array([170, 285]))"
            ]
          },
          "metadata": {},
          "execution_count": 53
        }
      ]
    },
    {
      "cell_type": "code",
      "source": [
        "class LogisticNeuron3(nn.Module):\n",
        "    def __init__(self):\n",
        "        super().__init__()\n",
        "        self.model = nn.Sequential(\n",
        "            nn.Linear(30,20), ## 처음 인풋의 값이 [455, 30],  여기에 맞춰줌\n",
        "            nn.ReLU(),\n",
        "            nn.Linear(20,20),\n",
        "            nn.ReLU(),\n",
        "            nn.Linear(20,10),\n",
        "            nn.Sigmoid()\n",
        "        )\n",
        "        self._set_optimizer()\n",
        "        self._loss()\n",
        "    \n",
        "    def _set_optimizer(self):\n",
        "        self.optim = torch.optim.Adam(self.model.parameters(), lr=1e-4)\n",
        "        \n",
        "    def _loss(self):\n",
        "        self.criterion = nn.MSELoss()\n",
        "        \n",
        "    def _calculate_loss(self, x, y):\n",
        "        loss = self.criterion(x, y)\n",
        "        return loss\n",
        "    \n",
        "    def forward(self, x):\n",
        "        z = self.model(x)\n",
        "        return z\n",
        "    \n",
        "    def train(self, x, y, epochs=1000):\n",
        "        self.w = np.ones(x.shape[1])\n",
        "        self.b = 0\n",
        "        \n",
        "        for i in range(epochs):\n",
        "            for xi, yi in zip(x, y):\n",
        "                pred_y = self.forward(xi)\n",
        "                loss = self._calculate_loss(pred_y[0], yi)\n",
        "                self.model.zero_grad()\n",
        "                self.optim.zero_grad()\n",
        "                loss.backward()\n",
        "                self.optim.step()\n",
        "                \n",
        "            if (i+1) % 100 == 0:\n",
        "                print(\"epoch {} err {:4f} \".format(i+1, loss))\n",
        "    \n",
        "    def predict(self, x):\n",
        "        pred= [self.forward(xi).data.numpy()[0] for xi in x]\n",
        "        return np.array(pred) > 0.5"
      ],
      "metadata": {
        "id": "dvj14XP5XvMd"
      },
      "execution_count": 54,
      "outputs": []
    },
    {
      "cell_type": "code",
      "source": [
        "ln3 = LogisticNeuron3()\n",
        "ln3.train(x_train_torch, y_train_torch)\n",
        "print(\"----------------------------\")\n",
        "np.mean(ln3.predict(x_test_torch) == y_test)"
      ],
      "metadata": {
        "id": "yHAVnFGnVIwp",
        "outputId": "3ab55891-ffdf-465f-81f7-58fcf5354676",
        "colab": {
          "base_uri": "https://localhost:8080/"
        }
      },
      "execution_count": 55,
      "outputs": [
        {
          "output_type": "stream",
          "name": "stdout",
          "text": [
            "epoch 100 err 0.000231 \n",
            "epoch 200 err 0.000014 \n",
            "epoch 300 err 0.000019 \n",
            "epoch 400 err 0.000006 \n",
            "epoch 500 err 0.000009 \n",
            "epoch 600 err 0.000008 \n",
            "epoch 700 err 0.000002 \n",
            "epoch 800 err 0.000000 \n",
            "epoch 900 err 0.000000 \n",
            "epoch 1000 err 0.000000 \n",
            "----------------------------\n"
          ]
        },
        {
          "output_type": "execute_result",
          "data": {
            "text/plain": [
              "0.9649122807017544"
            ]
          },
          "metadata": {},
          "execution_count": 55
        }
      ]
    },
    {
      "cell_type": "code",
      "source": [
        "x_train3, x_test3, y_train3, y_test3 = train_test_split(x, y, stratify=y, test_size=0.2, random_state=44)\n",
        "x_train_torch3 = torch.FloatTensor(x_train3)\n",
        "y_train_torch3 = torch.FloatTensor(y_train3)\n",
        "x_test_torch3 = torch.FloatTensor(x_test3)\n",
        "y_test_torch3 = torch.FloatTensor(y_test3)"
      ],
      "metadata": {
        "id": "t4OcCtMIVVFN"
      },
      "execution_count": 56,
      "outputs": []
    },
    {
      "cell_type": "code",
      "source": [
        "ln3.train(x_train_torch3, y_train_torch3, epochs=300)\n",
        "print(\"----------------------------\")\n",
        "np.mean(ln3.predict(x_test_torch3) == y_test3)"
      ],
      "metadata": {
        "id": "aYVzPS-gylwV",
        "outputId": "876c72bf-aa14-4912-a87b-15203d5a428e",
        "colab": {
          "base_uri": "https://localhost:8080/"
        }
      },
      "execution_count": 58,
      "outputs": [
        {
          "output_type": "stream",
          "name": "stdout",
          "text": [
            "epoch 100 err 0.001046 \n",
            "epoch 200 err 0.000407 \n",
            "epoch 300 err 0.000498 \n",
            "----------------------------\n"
          ]
        },
        {
          "output_type": "execute_result",
          "data": {
            "text/plain": [
              "0.9824561403508771"
            ]
          },
          "metadata": {},
          "execution_count": 58
        }
      ]
    },
    {
      "cell_type": "code",
      "source": [
        "np.mean(ln3.predict(x_test_torch) == y_test)"
      ],
      "metadata": {
        "id": "zWF1xANZzVTL",
        "outputId": "304ab380-80fc-468c-b89d-e2317443960d",
        "colab": {
          "base_uri": "https://localhost:8080/"
        }
      },
      "execution_count": 59,
      "outputs": [
        {
          "output_type": "execute_result",
          "data": {
            "text/plain": [
              "0.9824561403508771"
            ]
          },
          "metadata": {},
          "execution_count": 59
        }
      ]
    },
    {
      "cell_type": "code",
      "source": [
        ""
      ],
      "metadata": {
        "id": "KicZmdGU6k64"
      },
      "execution_count": null,
      "outputs": []
    }
  ],
  "metadata": {
    "colab": {
      "name": "Chapter2_1.ipynb",
      "provenance": [],
      "include_colab_link": true
    },
    "language_info": {
      "name": "python"
    },
    "kernelspec": {
      "name": "python3",
      "display_name": "Python 3"
    }
  },
  "nbformat": 4,
  "nbformat_minor": 0
}